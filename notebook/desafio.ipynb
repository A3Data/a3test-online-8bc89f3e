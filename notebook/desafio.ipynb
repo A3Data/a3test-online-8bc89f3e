{
 "cells": [
  {
   "cell_type": "markdown",
   "id": "45d6bd08-2ee3-4c0e-b553-e80225e11fbb",
   "metadata": {},
   "source": [
    "# Olá, seja muito bem-vindo ao desafio de Engenheiro(a) de dados da [A3Data]\n",
    "\n",
    "<p align=\"center\">\n",
    "  <a href=\"\" rel=\"noopener\">\n",
    " <img src=\"https://cdn-content.talentbrand.com.br/companies/394/header/ec1d053357fc5889b2daf50460552dd67b399a89.png?1606219795\" alt=\"Project logo\"></a>\n",
    "</p>"
   ]
  },
  {
   "cell_type": "markdown",
   "id": "58401783-0500-465e-b05f-c47d68b2b4d9",
   "metadata": {},
   "source": [
    "### Executar apenas no GOOGLE COLAB"
   ]
  },
  {
   "cell_type": "code",
   "execution_count": 1,
   "id": "aeabfd48-950a-480d-9ed7-29f2c0112238",
   "metadata": {},
   "outputs": [],
   "source": [
    "#!pip install pyspark"
   ]
  },
  {
   "cell_type": "markdown",
   "id": "13945131-125e-4b7c-aaf3-2e3049e0b937",
   "metadata": {},
   "source": [
    "### Cria um mount point no seu Google Drive para acessar os dados do DataLake"
   ]
  },
  {
   "cell_type": "markdown",
   "id": "137db32f-a14e-4aa9-b847-359cfa0b4c10",
   "metadata": {},
   "source": [
    "- Execute e passe o código solicitado"
   ]
  },
  {
   "cell_type": "code",
   "execution_count": 1,
   "id": "f1091576-b0d8-4a26-8488-2710c8cb3a6a",
   "metadata": {},
   "outputs": [],
   "source": [
    "# from google.colab import drive\n",
    "# drive.mount('/content/drive/')"
   ]
  },
  {
   "cell_type": "markdown",
   "id": "e8ee5e4e-6b01-4de3-97ad-fb3e58197dc7",
   "metadata": {},
   "source": [
    "- Diretório que os dados para realização dos desafios estão\n",
    "    - /content/drive/MyDrive/datalake/landing-zone"
   ]
  }
 ],
 "metadata": {
  "kernelspec": {
   "display_name": "Python 3",
   "language": "python",
   "name": "python3"
  },
  "language_info": {
   "codemirror_mode": {
    "name": "ipython",
    "version": 3
   },
   "file_extension": ".py",
   "mimetype": "text/x-python",
   "name": "python",
   "nbconvert_exporter": "python",
   "pygments_lexer": "ipython3",
   "version": "3.9.1"
  }
 },
 "nbformat": 4,
 "nbformat_minor": 5
}
